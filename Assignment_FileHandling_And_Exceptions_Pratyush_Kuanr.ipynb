{
  "nbformat": 4,
  "nbformat_minor": 0,
  "metadata": {
    "colab": {
      "provenance": [],
      "authorship_tag": "ABX9TyPCfyLsiRESXu8U5GeBRyjQ",
      "include_colab_link": true
    },
    "kernelspec": {
      "name": "python3",
      "display_name": "Python 3"
    },
    "language_info": {
      "name": "python"
    }
  },
  "cells": [
    {
      "cell_type": "markdown",
      "metadata": {
        "id": "view-in-github",
        "colab_type": "text"
      },
      "source": [
        "<a href=\"https://colab.research.google.com/github/PratyushPriyamKuanr271776508/pwskills_FileHandingAndExceptions/blob/main/Assignment_FileHandling_And_Exceptions_Pratyush_Kuanr.ipynb\" target=\"_parent\"><img src=\"https://colab.research.google.com/assets/colab-badge.svg\" alt=\"Open In Colab\"/></a>"
      ]
    },
    {
      "cell_type": "markdown",
      "source": [
        "### **1. Multithreading vs. Multiprocessing**\n",
        "\n",
        "#### **Multithreading**:\n",
        "- **When preferable**:\n",
        "  - Tasks involve I/O-bound operations (e.g., reading/writing files, network requests).\n",
        "  - Sharing data between threads with minimal overhead.\n",
        "  - Programs must avoid the memory overhead of creating multiple processes.\n",
        "\n",
        "#### **Multiprocessing**:\n",
        "- **When preferable**:\n",
        "  - Tasks are CPU-bound and require parallel execution to fully utilize multiple CPU cores.\n",
        "  - High computational workload where Global Interpreter Lock (GIL) in Python becomes a bottleneck.\n",
        "  - Need for true parallelism in computational tasks."
      ],
      "metadata": {
        "id": "SwcUv68B50ec"
      }
    },
    {
      "cell_type": "markdown",
      "source": [
        "### **2. Process Pool**\n",
        "\n",
        "A **process pool** manages a pool of worker processes, assigning tasks to available processes to avoid creating/destroying processes repeatedly. This approach:\n",
        "- Reduces overhead by reusing processes.\n",
        "- Simplifies parallel task management using abstractions like `apply`, `map`, and `starmap`."
      ],
      "metadata": {
        "id": "oAOUMwqI6B5M"
      }
    },
    {
      "cell_type": "markdown",
      "source": [
        "### **3. Multiprocessing in Python**\n",
        "\n",
        "- **What**: Python's `multiprocessing` module provides APIs to create multiple processes, enabling concurrent execution.\n",
        "- **Why used**:\n",
        "  - Achieves true parallelism for CPU-bound tasks.\n",
        "  - Works around Python's GIL by using separate memory spaces for each process."
      ],
      "metadata": {
        "id": "9tsVR70m6HgY"
      }
    },
    {
      "cell_type": "markdown",
      "source": [
        "### **4. Python Program with Multithreading and Thread Safety**\n"
      ],
      "metadata": {
        "id": "q3voz_y76NpS"
      }
    },
    {
      "cell_type": "code",
      "execution_count": 1,
      "metadata": {
        "colab": {
          "base_uri": "https://localhost:8080/"
        },
        "id": "5nHm9Xc85xOu",
        "outputId": "41ad2609-b082-4e10-f4a2-114eae4bdfe1"
      },
      "outputs": [
        {
          "output_type": "stream",
          "name": "stdout",
          "text": [
            "Added 0 to list.\n",
            "Removed 0 from list.\n",
            "Added 1 to list.\n",
            "Added 2 to list.\n",
            "Removed 1 from list.\n",
            "Added 3 to list.\n",
            "Removed 2 from list.\n",
            "Added 4 to list.\n",
            "Removed 3 from list.\n",
            "Removed 4 from list.\n",
            "Final list: []\n"
          ]
        }
      ],
      "source": [
        "import threading\n",
        "import time\n",
        "\n",
        "# Shared resource\n",
        "shared_list = []\n",
        "\n",
        "# Lock for thread safety\n",
        "list_lock = threading.Lock()\n",
        "\n",
        "def add_numbers():\n",
        "    for i in range(5):\n",
        "        time.sleep(1)\n",
        "        with list_lock:\n",
        "            shared_list.append(i)\n",
        "            print(f\"Added {i} to list.\")\n",
        "\n",
        "def remove_numbers():\n",
        "    for _ in range(5):\n",
        "        time.sleep(1.5)\n",
        "        with list_lock:\n",
        "            if shared_list:\n",
        "                removed = shared_list.pop(0)\n",
        "                print(f\"Removed {removed} from list.\")\n",
        "            else:\n",
        "                print(\"List is empty, nothing to remove.\")\n",
        "\n",
        "# Create threads\n",
        "adder = threading.Thread(target=add_numbers)\n",
        "remover = threading.Thread(target=remove_numbers)\n",
        "\n",
        "# Start threads\n",
        "adder.start()\n",
        "remover.start()\n",
        "\n",
        "# Wait for threads to finish\n",
        "adder.join()\n",
        "remover.join()\n",
        "\n",
        "print(\"Final list:\", shared_list)"
      ]
    },
    {
      "cell_type": "markdown",
      "source": [
        "### **5. Safely Sharing Data Between Threads and Processes**\n",
        "\n",
        "#### **Threads**:\n",
        "- Use `threading.Lock` to ensure mutual exclusion.\n",
        "- Use thread-safe queues (`queue.Queue`) for data sharing.\n",
        "\n",
        "#### **Processes**:\n",
        "- Use `multiprocessing.Queue` for inter-process communication.\n",
        "- Use `multiprocessing.Manager` to create shared objects (e.g., lists, dictionaries)."
      ],
      "metadata": {
        "id": "TIgzMoQ96az2"
      }
    },
    {
      "cell_type": "markdown",
      "source": [
        "### **6. Handling Exceptions in Concurrent Programs**\n",
        "\n",
        "- **Importance**:\n",
        "  - Prevent unhandled exceptions from crashing the entire application.\n",
        "  - Allow proper resource cleanup and error logging.\n",
        "\n",
        "- **Techniques**:\n",
        "  - **Threading**: Use `try-except` blocks in thread functions.\n",
        "  - **Multiprocessing**: Retrieve exceptions from process pools via `apply_async` or `concurrent.futures`."
      ],
      "metadata": {
        "id": "UOoc61xY6fEL"
      }
    },
    {
      "cell_type": "markdown",
      "source": [
        "### **7. Program: Thread Pool for Factorial**"
      ],
      "metadata": {
        "id": "4Je9jU1x6jVH"
      }
    },
    {
      "cell_type": "code",
      "source": [
        "from concurrent.futures import ThreadPoolExecutor\n",
        "import math\n",
        "\n",
        "def calculate_factorial(n):\n",
        "    return f\"Factorial of {n} is {math.factorial(n)}\"\n",
        "\n",
        "# Thread pool execution\n",
        "with ThreadPoolExecutor() as executor:\n",
        "    results = executor.map(calculate_factorial, range(1, 11))\n",
        "\n",
        "# Print results\n",
        "for result in results:\n",
        "    print(result)"
      ],
      "metadata": {
        "colab": {
          "base_uri": "https://localhost:8080/"
        },
        "id": "p-RvBIyS6Rc4",
        "outputId": "935a5c12-2834-4bd6-b00f-d1f078cd88ad"
      },
      "execution_count": 2,
      "outputs": [
        {
          "output_type": "stream",
          "name": "stdout",
          "text": [
            "Factorial of 1 is 1\n",
            "Factorial of 2 is 2\n",
            "Factorial of 3 is 6\n",
            "Factorial of 4 is 24\n",
            "Factorial of 5 is 120\n",
            "Factorial of 6 is 720\n",
            "Factorial of 7 is 5040\n",
            "Factorial of 8 is 40320\n",
            "Factorial of 9 is 362880\n",
            "Factorial of 10 is 3628800\n"
          ]
        }
      ]
    },
    {
      "cell_type": "markdown",
      "source": [
        "### **8. Multiprocessing Pool for Squaring Numbers**"
      ],
      "metadata": {
        "id": "R4fyO_Ge6raU"
      }
    },
    {
      "cell_type": "code",
      "source": [
        "from multiprocessing import Pool\n",
        "import time\n",
        "\n",
        "def square(n):\n",
        "    return n * n\n",
        "\n",
        "# Measure execution time with different pool sizes\n",
        "for pool_size in [2, 4, 8]:\n",
        "    with Pool(pool_size) as pool:\n",
        "        start_time = time.time()\n",
        "        results = pool.map(square, range(1, 11))\n",
        "        duration = time.time() - start_time\n",
        "        print(f\"Pool Size: {pool_size}, Results: {results}, Time Taken: {duration:.4f} seconds\")"
      ],
      "metadata": {
        "colab": {
          "base_uri": "https://localhost:8080/"
        },
        "id": "kjwqK9rA6mA1",
        "outputId": "a15e7660-16dc-4ddc-f79a-5d367640acda"
      },
      "execution_count": 3,
      "outputs": [
        {
          "output_type": "stream",
          "name": "stdout",
          "text": [
            "Pool Size: 2, Results: [1, 4, 9, 16, 25, 36, 49, 64, 81, 100], Time Taken: 0.0025 seconds\n",
            "Pool Size: 4, Results: [1, 4, 9, 16, 25, 36, 49, 64, 81, 100], Time Taken: 0.0029 seconds\n",
            "Pool Size: 8, Results: [1, 4, 9, 16, 25, 36, 49, 64, 81, 100], Time Taken: 0.0094 seconds\n"
          ]
        }
      ]
    },
    {
      "cell_type": "code",
      "source": [],
      "metadata": {
        "id": "A0pNLas36uw3"
      },
      "execution_count": null,
      "outputs": []
    }
  ]
}